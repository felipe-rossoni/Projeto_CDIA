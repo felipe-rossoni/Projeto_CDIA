{
  "cells": [
    {
      "cell_type": "markdown",
      "metadata": {
        "colab_type": "text",
        "id": "view-in-github"
      },
      "source": [
        "<a href=\"https://colab.research.google.com/github/Raisler/DataScience_Portfolio/blob/master/M%C3%A9trica_de_Similaridade.ipynb\" target=\"_parent\"><img src=\"https://colab.research.google.com/assets/colab-badge.svg\" alt=\"Open In Colab\"/></a>"
      ]
    },
    {
      "cell_type": "markdown",
      "metadata": {
        "id": "MpgPVOfy-rhv"
      },
      "source": [
        "# Similaridade entre textos \n",
        "\n"
      ]
    },
    {
      "cell_type": "code",
      "execution_count": null,
      "metadata": {
        "id": "96xad4tj-Nft"
      },
      "outputs": [],
      "source": [
        "import numpy as np\n",
        "from matplotlib_venn import venn2\n",
        "from sklearn.feature_extraction.text import CountVectorizer\n",
        "import pandas as pd"
      ]
    },
    {
      "cell_type": "code",
      "execution_count": null,
      "metadata": {},
      "outputs": [],
      "source": [
        "gpt = pd.read_csv(\"results_gpt4.csv\")\n",
        "mistral = pd.read_csv(\"results_mistral_dolphin_2.csv\")"
      ]
    },
    {
      "cell_type": "code",
      "execution_count": null,
      "metadata": {},
      "outputs": [],
      "source": [
        "gpt.drop(columns=['category', 'prompt', 'reviews', 'review_qty', 'token_qty'], inplace=True)\n",
        "mistral.drop(columns=['category', 'prompt', 'reviews', 'review_qty', 'token_qty'], inplace=True)"
      ]
    },
    {
      "cell_type": "code",
      "execution_count": null,
      "metadata": {},
      "outputs": [],
      "source": [
        "review = pd.merge(mistral, gpt, on='product')\n",
        "\n",
        "review.columns = ['Index', 'Product', 'Mistral', 'GPT']\n",
        "\n",
        "review = review[review['Mistral'] != 'Resumo não encontrado.']"
      ]
    },
    {
      "cell_type": "code",
      "execution_count": null,
      "metadata": {
        "id": "sd5HaP7aqSLF"
      },
      "outputs": [],
      "source": [
        "def medidor_de_similaridade(text1, text2):\n",
        "  to_vect = CountVectorizer(analyzer = 'word', ngram_range = (1, 2))\n",
        "  result = []\n",
        "  text1 = [text1]\n",
        "  text2 = [text2]\n",
        "  for comentario1 in text1:\n",
        "    for comentario2 in text2:\n",
        "      x1, x2 = to_vect.fit_transform([comentario1,comentario2])\n",
        "      t1, t2 = x1.toarray(), x2.toarray()\n",
        "\n",
        "      min = np.amin([t1, t2], axis = 0)\n",
        "      sum = np.sum(min)\n",
        "      count = np.sum([t1, t2][0])\n",
        "      to_mean = sum/count\n",
        "      result.append(to_mean)\n",
        "  return result"
      ]
    },
    {
      "cell_type": "code",
      "execution_count": null,
      "metadata": {},
      "outputs": [],
      "source": [
        "mistrals = review['Mistral'].to_list()\n",
        "gpts = review['GPT'].to_list()\n",
        "\n",
        "for i in range(0, 3):\n",
        "    print(medidor_de_similaridade(mistrals[i], gpts[i]))"
      ]
    },
    {
      "cell_type": "code",
      "execution_count": null,
      "metadata": {
        "colab": {
          "base_uri": "https://localhost:8080/"
        },
        "id": "NaSIolNOEmy5",
        "outputId": "1e452205-f868-4dc1-95e4-53f2d008e797"
      },
      "outputs": [],
      "source": [
        "original_or_not1 = ['''\n",
        "Customers appreciate the expansive watch face and easily legible numerals, coupled with the comfortable leather strap and convenient indiglo light feature. This timepiece proves especially suitable for seniors or those requiring larger watches for easy reading without the need for glasses. Nevertheless, a few users encountered problems with the band losing its color and fading within a mere two months of purchase, necessitating a replacement.''']\n",
        "original_or_not2 = ['''\n",
        "Customers love the large face and easy-to-read numerals, as well as the comfortable leather strap and indiglo light. The watch is perfect for seniors or individuals who need larger watches to read without glasses. However, some users experienced issues with the band losing color and fading within two months of purchase, requiring a replacement.''']\n",
        "\n",
        "medidor_de_similaridade(original_or_not1, original_or_not2)"
      ]
    },
    {
      "cell_type": "code",
      "execution_count": null,
      "metadata": {},
      "outputs": [],
      "source": [
        "import spacy.cli\n",
        "from pathlib import Path\n",
        "\n",
        "spacy.cli.download(\"en_core_web_sm\")\n",
        "\n",
        "nlp = spacy.load(\"en_core_web_sm\")\n",
        "texto = \"There were 70 children there. Preliminary findings were reported in today's New England Journal of Medicine. Earnings growth took a back seat. A small building in the back. A clear majority of senators back the bill. Enable the country to buy back debt. I was twenty-one back then.\"\n",
        "doc1 = nlp(original_or_not1[0])\n",
        "doc2 = nlp(original_or_not2[0])\n"
      ]
    },
    {
      "cell_type": "code",
      "execution_count": null,
      "metadata": {},
      "outputs": [],
      "source": [
        "clas1 = pd.DataFrame({'TOKEN': [], 'LEMA': [], 'POS': []})\n",
        "clas2 = pd.DataFrame({'TOKEN': [], 'LEMA': [], 'POS': []})"
      ]
    },
    {
      "cell_type": "code",
      "execution_count": null,
      "metadata": {},
      "outputs": [],
      "source": [
        "print(\"\\n(TOKEN, LEMA,POS)\")\n",
        "\n",
        "for token in doc1:\n",
        "    df_teste = pd.DataFrame({'TOKEN': [token.text], 'LEMA': [token.lemma_], 'POS': [token.pos_]})\n",
        "    clas1 = pd.concat([clas1, df_teste])\n",
        "\n",
        "for token in doc2:\n",
        "    df_teste = pd.DataFrame({'TOKEN': [token.text], 'LEMA': [token.lemma_], 'POS': [token.pos_]})\n",
        "    clas2 = pd.concat([clas2, df_teste])"
      ]
    },
    {
      "cell_type": "code",
      "execution_count": null,
      "metadata": {},
      "outputs": [],
      "source": [
        "tokens1 = clas1[clas1['POS'] == 'ADJ']['TOKEN']\n",
        "tokens2 = clas2[clas2['POS'] == 'ADJ']['TOKEN']\n",
        "\n",
        "tokens_str1 = ''\n",
        "tokens_str2 = ''\n",
        "\n",
        "for token in tokens1:\n",
        "    tokens_str1 = tokens_str1 + ' ' + token\n",
        "\n",
        "for token in tokens2:\n",
        "    tokens_str2 = tokens_str2 + ' ' + token"
      ]
    },
    {
      "cell_type": "code",
      "execution_count": null,
      "metadata": {},
      "outputs": [],
      "source": [
        "vect1 = CountVectorizer(analyzer = 'word', ngram_range= (1, 2)) \n",
        "vect2 = CountVectorizer(analyzer = 'word', ngram_range = (1, 2))\n",
        "\n",
        "x1 = vect1.fit([tokens_str1])\n",
        "x2 = vect2.fit([tokens_str2])\n",
        "\n",
        "to_set1 = set(x1.vocabulary_)\n",
        "to_set2 = set(x2.vocabulary_)\n",
        "\n",
        "intersection = to_set1.intersection(to_set2)\n",
        "  \n",
        "venn2([to_set1, to_set2], set_labels = ('texto 1', 'texto 2'))"
      ]
    }
  ],
  "metadata": {
    "colab": {
      "authorship_tag": "ABX9TyP6+PrvRfzPKpGHO+asSacw",
      "collapsed_sections": [],
      "include_colab_link": true,
      "name": "Métrica_de_Similaridade.ipynb",
      "provenance": [],
      "toc_visible": true
    },
    "kernelspec": {
      "display_name": "Python 3",
      "name": "python3"
    },
    "language_info": {
      "codemirror_mode": {
        "name": "ipython",
        "version": 3
      },
      "file_extension": ".py",
      "mimetype": "text/x-python",
      "name": "python",
      "nbconvert_exporter": "python",
      "pygments_lexer": "ipython3",
      "version": "3.11.5"
    }
  },
  "nbformat": 4,
  "nbformat_minor": 0
}
