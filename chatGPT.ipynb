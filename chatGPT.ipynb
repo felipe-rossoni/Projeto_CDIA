{
 "cells": [
  {
   "cell_type": "code",
   "execution_count": 1,
   "metadata": {},
   "outputs": [],
   "source": [
    "import os\n",
    "import requests\n",
    "\n",
    "import pandas as pd\n",
    "import openai\n",
    "import tiktoken\n",
    "\n",
    "api_key = 'key'\n"
   ]
  },
  {
   "cell_type": "code",
   "execution_count": 13,
   "metadata": {},
   "outputs": [],
   "source": [
    "def num_tokens_from_string(string: str, encoding_name: str) -> int:\n",
    "    \"\"\"Returns the number of tokens in a text string.\"\"\"\n",
    "    encoding = tiktoken.get_encoding(encoding_name)\n",
    "    num_tokens = len(encoding.encode(string))\n",
    "    return num_tokens\n",
    "\n",
    "def num_tokens_from_messages(messages, model=\"gpt-3.5-turbo-0613\"):\n",
    "    \"\"\"Return the number of tokens used by a list of messages.\"\"\"\n",
    "    try:\n",
    "        encoding = tiktoken.encoding_for_model(model)\n",
    "    except KeyError:\n",
    "        print(\"Warning: model not found. Using cl100k_base encoding.\")\n",
    "        encoding = tiktoken.get_encoding(\"cl100k_base\")\n",
    "    if model in {\n",
    "        \"gpt-3.5-turbo-0613\",\n",
    "        \"gpt-3.5-turbo-16k-0613\",\n",
    "        \"gpt-4-0314\",\n",
    "        \"gpt-4-32k-0314\",\n",
    "        \"gpt-4-0613\",\n",
    "        \"gpt-4-32k-0613\",\n",
    "        }:\n",
    "        tokens_per_message = 3\n",
    "        tokens_per_name = 1\n",
    "    elif model == \"gpt-3.5-turbo-0301\":\n",
    "        tokens_per_message = 4  # every message follows <|start|>{role/name}\\n{content}<|end|>\\n\n",
    "        tokens_per_name = -1  # if there's a name, the role is omitted\n",
    "    elif \"gpt-3.5-turbo\" in model:\n",
    "        print(\"Warning: gpt-3.5-turbo may update over time. Returning num tokens assuming gpt-3.5-turbo-0613.\")\n",
    "        return num_tokens_from_messages(messages, model=\"gpt-3.5-turbo-0613\")\n",
    "    elif \"gpt-4\" in model:\n",
    "        print(\"Warning: gpt-4 may update over time. Returning num tokens assuming gpt-4-0613.\")\n",
    "        return num_tokens_from_messages(messages, model=\"gpt-4-0613\")\n",
    "    else:\n",
    "        raise NotImplementedError(\n",
    "            f\"\"\"num_tokens_from_messages() is not implemented for model {model}. See https://github.com/openai/openai-python/blob/main/chatml.md for information on how messages are converted to tokens.\"\"\"\n",
    "        )\n",
    "    num_tokens = 0\n",
    "    for message in messages:\n",
    "        num_tokens += tokens_per_message\n",
    "        for key, value in message.items():\n",
    "            num_tokens += len(encoding.encode(value))\n",
    "            if key == \"name\":\n",
    "                num_tokens += tokens_per_name\n",
    "    num_tokens += 3  # every reply is primed with <|start|>assistant<|message|>\n",
    "    return num_tokens\n",
    "\n"
   ]
  },
  {
   "cell_type": "code",
   "execution_count": null,
   "metadata": {},
   "outputs": [],
   "source": []
  },
  {
   "cell_type": "code",
   "execution_count": 3,
   "metadata": {},
   "outputs": [],
   "source": [
    "reviews = pd.read_parquet('D:/Disco/Data/datasets/amazon_us_reviews/reviews_aws.parquet')"
   ]
  },
  {
   "cell_type": "code",
   "execution_count": 4,
   "metadata": {},
   "outputs": [],
   "source": [
    "reviews[['review_body']][:10]\n",
    "\n",
    "reviews[(reviews['product_category'] == 'Watches') & (reviews['product_title']== 'Timex Women\\'s Easy Reader Leather Strap Watch')][['review_body']][:10]\n",
    "product = reviews[(reviews['product_category'] == 'Watches') & (reviews['product_title']== 'Timex Women\\'s Easy Reader Leather Strap Watch')]"
   ]
  },
  {
   "cell_type": "code",
   "execution_count": 12,
   "metadata": {},
   "outputs": [],
   "source": [
    "prompt = 'Vou informar uma lista de comentarios, preciso que todos os cometarios sejam resumidos \\\n",
    " em um unico comentario para que assim seja possível capturar o que os clientes estão pensando do produto, \\\n",
    "    seja aspectos positivos ou negativos e também destacando os pontos positivos e negativos do produto. \\\n",
    "        é necessário que o resumo geral seja escrito no estilo de um comentário de um cliente.'"
   ]
  },
  {
   "cell_type": "code",
   "execution_count": 14,
   "metadata": {},
   "outputs": [],
   "source": [
    "openai.api_key = api_key\n",
    "\n",
    "#\"gpt-3.5-turbo\"\n",
    "chat_completion = openai.ChatCompletion.create(\n",
    "    model=\"gpt-4\", \n",
    "    messages=[{\n",
    "        \"role\": \"user\",\n",
    "        \"content\": f\"{prompt}:{product['review_body']}\"}])"
   ]
  },
  {
   "cell_type": "code",
   "execution_count": 15,
   "metadata": {},
   "outputs": [
    {
     "data": {
      "text/plain": [
       "'Comprei este relógio e estou adorando. O aspecto positivo para a maioria de nós é o mostrador grande e bem iluminado à noite, que é bem fácil de ler. Além disso, o relógio parece ótimo e a banda, embora seja um pouco rígida, está ficando mais macia à medida que a uso. Além disso, muitos de nós adoramos as variedades de cores e materiais que a Timex oferece. Dito isso, existem alguns aspectos negativos. Por exemplo, o relógio não tem altímetro, pedômetro, GPS ou qualquer função digital. Outros pontos negativos incluem o fato de o relógio parar de funcionar temporariamente quando molhado, o som alto dos segundos correndo pode ser irritante e, apesar de ser fácil de ler, a luz indigo é notavelmente fraca. Finalmente, descobri que o relógio está atrasando um pouco. Tirando essas coisas, para nós que não precisamos de nada muito sofisticado, o relógio é uma ótima escolha e a maioria de nós está bastante satisfeita!'"
      ]
     },
     "execution_count": 15,
     "metadata": {},
     "output_type": "execute_result"
    }
   ],
   "source": [
    "chat_completion[\"choices\"][0][\"message\"][\"content\"]"
   ]
  },
  {
   "cell_type": "code",
   "execution_count": 57,
   "metadata": {},
   "outputs": [],
   "source": [
    "product[['review_body']].to_csv('D:/Disco/Data/datasets/amazon_us_reviews/reviews_aws_product.csv', index=False)"
   ]
  },
  {
   "cell_type": "code",
   "execution_count": 11,
   "metadata": {},
   "outputs": [
    {
     "data": {
      "text/plain": [
       "8145                                             Love it!!!\n",
       "28105                                                Nice !\n",
       "33420     No altimeter, no pedometer, no digital, no GPS...\n",
       "35676     I love this watch. The led light at nite is gr...\n",
       "41837         It's a gift for my mother,the watch is good !\n",
       "42117     Love the oversize face!  The band is a bit sti...\n",
       "49303     I bought this for my Mother who is 86. It is e...\n",
       "50364     timex has always been good quality and afforda...\n",
       "50934     I need a larger face in order to read the time...\n",
       "57063     love this watch, It&#34;s large enough to see ...\n",
       "63760     Just what I wanted, clear face, glows in the d...\n",
       "69063     Easy to read and looks great, but runs slow. W...\n",
       "70327     Few watches have a white face and black hands....\n",
       "71051     This was bought as a Christmas gift. The recip...\n",
       "82340     I like these watches and wear one all the time...\n",
       "82523     Purchased as a gift for my elderly Mom.  She l...\n",
       "93599     Just received this today-it's perfect! The wat...\n",
       "96163     I purchased this watch for couple of months ag...\n",
       "103560    Easy to read, strap getting softer as I wear i...\n",
       "103626    lound sounds for second running  need put it a...\n",
       "108691    Nice size watch face but the indigo lite is no...\n",
       "109661    I love both the color and the large face, but ...\n",
       "109671    While this is by no means an expensive watch, ...\n",
       "116364    I replaced my last Timex after 30 years.  I ne...\n",
       "118539    Large face is very easy to read.  Indigo light...\n",
       "118905    Do you know how much blue we wear? This watch ...\n",
       "121891    Don't get this wet! It will temporarily stop w...\n",
       "126454    I BOUGHT THIS WATCH AS A GIFT TO A GIRLFRIEND ...\n",
       "129397    Timex offers a wide variety of materials, colo...\n",
       "132223    The watch looks just like the one in the pictu...\n",
       "141088    I've been wearing this watch for several  mont...\n",
       "144126    I haven't had this watch very long..but it's s...\n",
       "Name: review_body, dtype: object"
      ]
     },
     "execution_count": 11,
     "metadata": {},
     "output_type": "execute_result"
    }
   ],
   "source": [
    "product['review_body']"
   ]
  },
  {
   "cell_type": "code",
   "execution_count": 16,
   "metadata": {},
   "outputs": [
    {
     "data": {
      "text/plain": [
       "12645269"
      ]
     },
     "execution_count": 16,
     "metadata": {},
     "output_type": "execute_result"
    }
   ],
   "source": [
    "len(reviews)"
   ]
  },
  {
   "cell_type": "code",
   "execution_count": null,
   "metadata": {},
   "outputs": [],
   "source": [
    "Gerar uma review geral de um produto a partir de informações existentes nas reviews realizadas pelos clientes que adiquiriram o produto em questão."
   ]
  }
 ],
 "metadata": {
  "kernelspec": {
   "display_name": "data-analysis",
   "language": "python",
   "name": "python3"
  },
  "language_info": {
   "codemirror_mode": {
    "name": "ipython",
    "version": 3
   },
   "file_extension": ".py",
   "mimetype": "text/x-python",
   "name": "python",
   "nbconvert_exporter": "python",
   "pygments_lexer": "ipython3",
   "version": "3.9.13"
  },
  "orig_nbformat": 4
 },
 "nbformat": 4,
 "nbformat_minor": 2
}
